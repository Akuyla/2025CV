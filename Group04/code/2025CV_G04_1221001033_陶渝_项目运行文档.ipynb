{
 "cells": [
  {
   "attachments": {},
   "cell_type": "markdown",
   "metadata": {},
   "source": [
    "# 说明\n",
    "\n",
    "本文档仅仅是展示项目中的option.ipynb文件，项目所需的所有命令都在option.ipynb文件中，您可直接从百度网盘中下载本项目，并运行option.ipynb文件\n",
    "\n",
    "经实验，本代码在Ubuntu20.04环境线能够正常运行\n",
    "\n",
    "代码部分分为两个阶段训练，并进行消融实验和注意力机制改进，具体而言\n",
    "\n",
    "- 第一阶段进行有监督训练，生成的模型用语为第二阶段产生伪标签\n",
    "\n",
    "- 第二阶段进行基于伪标签进行有监督训练\n",
    "\n",
    "- 对第二阶段算法针对监督方式进行消融实验\n",
    "\n",
    "- 对第二阶段修改注意力机制，查看效果"
   ]
  },
  {
   "cell_type": "code",
   "execution_count": null,
   "metadata": {},
   "outputs": [],
   "source": [
    "# 环境配置\n",
    "!pip install opencv-python\n",
    "!pip install progress\n",
    "!pip install scipy\n",
    "!conda install -c conda-forge pydensecrf -y -y\n",
    "!pip install thop\n",
    "# 可能还需要其他包，但是在autodl环境下，只需要执行上述命令"
   ]
  },
  {
   "cell_type": "code",
   "execution_count": null,
   "metadata": {},
   "outputs": [],
   "source": [
    "# 第一阶段训练\n",
    "!python3 train.py a2s --gpus=0 --trset=c # 用于第一阶段训练\n",
    "!python3 test.py a2s --gpus=0 --weight=./weight/a2s/resnet/c/base/a2s_base_20.pth --vals=cr --save --crf # 用于产生伪标签\n",
    "# 产生的伪标签可以需要放到./pseudo/目录下\n",
    "# 当前./pseudo/目录下已经有生成的伪标，您可用于第二阶段训练\n",
    "!python3 test.py a2s --gpus=0 --weight=./weight/a2s/resnet/c/base/a2s_base_20.pth --vals=ce # 用于第一阶段测试"
   ]
  },
  {
   "cell_type": "code",
   "execution_count": null,
   "metadata": {},
   "outputs": [],
   "source": [
    "# 第二阶段训练\n",
    "!python3 train.py midnet --gpus=0 --stage=2 --trset=c --vals=ce # 用于第二阶段训练\n",
    "!python3 test.py midnet --gpus=0 --weight=./weight/midnet/resnet/c/base/midnet_base_10.pth --vals=ce # 用于第二阶段测试\n",
    "# 同时我已经将训练好的.pth文件放在./weight目录下，您可直接调用进行测试"
   ]
  },
  {
   "cell_type": "code",
   "execution_count": null,
   "metadata": {},
   "outputs": [],
   "source": [
    "# 消融实验\n",
    "# 消融实现需要修改train.py文件的部分代码，修改部分我已经在具体内容中进行注释\n",
    "# 修改trian.py文件的代码后，您使用第二阶段的命令进行训练即可\n",
    "# 同时我已经将训练好的.pth文件放在./weight目录下，您可直接调用进行测试"
   ]
  },
  {
   "cell_type": "code",
   "execution_count": null,
   "metadata": {},
   "outputs": [],
   "source": [
    "# 修改注意力机制\n",
    "# 第二阶段的模型文件在路径./methods/midnet/model.py,您需要修改参数‘‘‘attn’’’即可，修改部分我已经在具体代码中进行注释\n",
    "# 修改trian.py文件的代码后，您使用第二阶段的命令进行训练即可\n",
    "# 同时我已经将训练好的.pth文件放在./weight目录下，您可直接调用进行测试"
   ]
  }
 ],
 "metadata": {
  "language_info": {
   "name": "python"
  },
  "orig_nbformat": 4
 },
 "nbformat": 4,
 "nbformat_minor": 2
}
